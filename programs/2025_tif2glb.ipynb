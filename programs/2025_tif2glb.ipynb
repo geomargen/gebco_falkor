{
  "nbformat": 4,
  "nbformat_minor": 0,
  "metadata": {
    "colab": {
      "provenance": []
    },
    "kernelspec": {
      "name": "python3",
      "display_name": "Python 3"
    },
    "language_info": {
      "name": "python"
    }
  },
  "cells": [
    {
      "cell_type": "code",
      "execution_count": 6,
      "metadata": {
        "colab": {
          "base_uri": "https://localhost:8080/"
        },
        "id": "qfb42WNCGkwj",
        "outputId": "41263caf-432c-4413-98cb-32d018e1c289"
      },
      "outputs": [
        {
          "output_type": "stream",
          "name": "stdout",
          "text": [
            "Requirement already satisfied: rasterio in /usr/local/lib/python3.12/dist-packages (1.4.3)\n",
            "Requirement already satisfied: pyvista in /usr/local/lib/python3.12/dist-packages (0.46.3)\n",
            "Requirement already satisfied: trimesh in /usr/local/lib/python3.12/dist-packages (4.7.4)\n",
            "Requirement already satisfied: shapely in /usr/local/lib/python3.12/dist-packages (2.1.1)\n",
            "Requirement already satisfied: affine in /usr/local/lib/python3.12/dist-packages (from rasterio) (2.4.0)\n",
            "Requirement already satisfied: attrs in /usr/local/lib/python3.12/dist-packages (from rasterio) (25.3.0)\n",
            "Requirement already satisfied: certifi in /usr/local/lib/python3.12/dist-packages (from rasterio) (2025.8.3)\n",
            "Requirement already satisfied: click>=4.0 in /usr/local/lib/python3.12/dist-packages (from rasterio) (8.2.1)\n",
            "Requirement already satisfied: cligj>=0.5 in /usr/local/lib/python3.12/dist-packages (from rasterio) (0.7.2)\n",
            "Requirement already satisfied: numpy>=1.24 in /usr/local/lib/python3.12/dist-packages (from rasterio) (2.0.2)\n",
            "Requirement already satisfied: click-plugins in /usr/local/lib/python3.12/dist-packages (from rasterio) (1.1.1.2)\n",
            "Requirement already satisfied: pyparsing in /usr/local/lib/python3.12/dist-packages (from rasterio) (3.2.3)\n",
            "Requirement already satisfied: matplotlib>=3.0.1 in /usr/local/lib/python3.12/dist-packages (from pyvista) (3.10.0)\n",
            "Requirement already satisfied: pillow in /usr/local/lib/python3.12/dist-packages (from pyvista) (11.3.0)\n",
            "Requirement already satisfied: pooch in /usr/local/lib/python3.12/dist-packages (from pyvista) (1.8.2)\n",
            "Requirement already satisfied: scooby>=0.5.1 in /usr/local/lib/python3.12/dist-packages (from pyvista) (0.10.1)\n",
            "Requirement already satisfied: typing-extensions>=4.10 in /usr/local/lib/python3.12/dist-packages (from pyvista) (4.15.0)\n",
            "Requirement already satisfied: vtk!=9.4.0 in /usr/local/lib/python3.12/dist-packages (from pyvista) (9.5.1)\n",
            "Requirement already satisfied: contourpy>=1.0.1 in /usr/local/lib/python3.12/dist-packages (from matplotlib>=3.0.1->pyvista) (1.3.3)\n",
            "Requirement already satisfied: cycler>=0.10 in /usr/local/lib/python3.12/dist-packages (from matplotlib>=3.0.1->pyvista) (0.12.1)\n",
            "Requirement already satisfied: fonttools>=4.22.0 in /usr/local/lib/python3.12/dist-packages (from matplotlib>=3.0.1->pyvista) (4.59.1)\n",
            "Requirement already satisfied: kiwisolver>=1.3.1 in /usr/local/lib/python3.12/dist-packages (from matplotlib>=3.0.1->pyvista) (1.4.9)\n",
            "Requirement already satisfied: packaging>=20.0 in /usr/local/lib/python3.12/dist-packages (from matplotlib>=3.0.1->pyvista) (25.0)\n",
            "Requirement already satisfied: python-dateutil>=2.7 in /usr/local/lib/python3.12/dist-packages (from matplotlib>=3.0.1->pyvista) (2.9.0.post0)\n",
            "Requirement already satisfied: platformdirs>=2.5.0 in /usr/local/lib/python3.12/dist-packages (from pooch->pyvista) (4.3.8)\n",
            "Requirement already satisfied: requests>=2.19.0 in /usr/local/lib/python3.12/dist-packages (from pooch->pyvista) (2.32.4)\n",
            "Requirement already satisfied: six>=1.5 in /usr/local/lib/python3.12/dist-packages (from python-dateutil>=2.7->matplotlib>=3.0.1->pyvista) (1.17.0)\n",
            "Requirement already satisfied: charset_normalizer<4,>=2 in /usr/local/lib/python3.12/dist-packages (from requests>=2.19.0->pooch->pyvista) (3.4.3)\n",
            "Requirement already satisfied: idna<4,>=2.5 in /usr/local/lib/python3.12/dist-packages (from requests>=2.19.0->pooch->pyvista) (3.10)\n",
            "Requirement already satisfied: urllib3<3,>=1.21.1 in /usr/local/lib/python3.12/dist-packages (from requests>=2.19.0->pooch->pyvista) (2.5.0)\n",
            "✅ Exportado a gebco_2025.glb\n"
          ]
        }
      ],
      "source": [
        "!pip install rasterio pyvista trimesh shapely\n",
        "\n",
        "import rasterio\n",
        "import numpy as np\n",
        "import pyvista as pv\n",
        "import trimesh\n",
        "\n",
        "# Ruta al raster\n",
        "ruta = '/content/gebco_2025.tif'\n",
        "\n",
        "# --- Leer el GeoTIFF ---\n",
        "with rasterio.open(ruta) as src:\n",
        "    elev = src.read(1).astype(float)  # matriz de elevación\n",
        "    transform = src.transform\n",
        "\n",
        "# Crear coordenadas X, Y\n",
        "rows, cols = elev.shape\n",
        "x = np.arange(cols) * transform.a + transform.c\n",
        "y = np.arange(rows) * transform.e + transform.f\n",
        "X, Y = np.meshgrid(x, y)\n",
        "\n",
        "# --- Crear grilla estructurada ---\n",
        "grid = pv.StructuredGrid(X, Y, elev)\n",
        "\n",
        "# --- Convertir StructuredGrid → PolyData (triangular) ---\n",
        "surf = grid.extract_surface().triangulate()\n",
        "\n",
        "# Extraer vértices y caras\n",
        "vertices = surf.points\n",
        "faces = surf.faces.reshape(-1, 4)[:, 1:]  # cada fila: (3, v0, v1, v2)\n",
        "\n",
        "# Crear malla con Trimesh\n",
        "mesh = trimesh.Trimesh(vertices=vertices, faces=faces, process=False)\n",
        "\n",
        "# --- Exportar a glTF (.glb) ---\n",
        "mesh.export(\"gebco_2025.glb\")\n",
        "print(\"✅ Exportado a gebco_2025.glb\")\n"
      ]
    }
  ]
}